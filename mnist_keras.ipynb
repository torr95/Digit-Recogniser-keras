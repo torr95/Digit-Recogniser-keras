{
  "cells": [
    {
      "metadata": {
        "_cell_guid": "b1076dfc-b9ad-4769-8c92-a6c4dae69d19",
        "_uuid": "8f2839f25d086af736a60e9eeb907d3b93b6e0e5",
        "trusted": true
      },
      "cell_type": "code",
      "source": "import pandas as pd\nimport numpy as np\nimport matplotlib.pyplot as plt\nimport matplotlib.image as mpimg\nimport seaborn as sns\n%matplotlib inline\n\nnp.random.seed(2)\n\nfrom sklearn.model_selection import train_test_split\nfrom sklearn.metrics import confusion_matrix\nimport itertools\n\nfrom keras.utils.np_utils import to_categorical # convert to one-hot-encoding\nfrom keras.models import Sequential\nfrom keras.layers import Dense, Dropout, Flatten, Conv2D, MaxPool2D\nfrom keras.optimizers import RMSprop\nfrom keras.preprocessing.image import ImageDataGenerator\nfrom keras.callbacks import ReduceLROnPlateau\n\n\nsns.set(style='white', context='notebook', palette='deep')",
      "execution_count": 1,
      "outputs": [
        {
          "output_type": "stream",
          "text": "/opt/conda/lib/python3.6/site-packages/h5py/__init__.py:36: FutureWarning: Conversion of the second argument of issubdtype from `float` to `np.floating` is deprecated. In future, it will be treated as `np.float64 == np.dtype(float).type`.\n  from ._conv import register_converters as _register_converters\nUsing TensorFlow backend.\n",
          "name": "stderr"
        }
      ]
    },
    {
      "metadata": {
        "_uuid": "d629ff2d2480ee46fbb7e2d37f6b5fab8052498a",
        "_cell_guid": "79c7e3d0-c299-4dcb-8224-4455121ee9b0",
        "collapsed": true,
        "trusted": true
      },
      "cell_type": "code",
      "source": "# Load the data\ntrain = pd.read_csv(\"../input/train.csv\")\ntest = pd.read_csv(\"../input/test.csv\")",
      "execution_count": 2,
      "outputs": []
    },
    {
      "metadata": {
        "_cell_guid": "e594ad98-5513-46e5-949f-08e6c1644ca5",
        "_uuid": "7b26bbf4a9de523f095bca56610cd9a46d7280c4",
        "trusted": true
      },
      "cell_type": "code",
      "source": "train.head()",
      "execution_count": 3,
      "outputs": [
        {
          "output_type": "execute_result",
          "execution_count": 3,
          "data": {
            "text/plain": "   label  pixel0  pixel1  pixel2  pixel3  pixel4  pixel5  pixel6  pixel7  \\\n0      1       0       0       0       0       0       0       0       0   \n1      0       0       0       0       0       0       0       0       0   \n2      1       0       0       0       0       0       0       0       0   \n3      4       0       0       0       0       0       0       0       0   \n4      0       0       0       0       0       0       0       0       0   \n\n   pixel8    ...     pixel774  pixel775  pixel776  pixel777  pixel778  \\\n0       0    ...            0         0         0         0         0   \n1       0    ...            0         0         0         0         0   \n2       0    ...            0         0         0         0         0   \n3       0    ...            0         0         0         0         0   \n4       0    ...            0         0         0         0         0   \n\n   pixel779  pixel780  pixel781  pixel782  pixel783  \n0         0         0         0         0         0  \n1         0         0         0         0         0  \n2         0         0         0         0         0  \n3         0         0         0         0         0  \n4         0         0         0         0         0  \n\n[5 rows x 785 columns]",
            "text/html": "<div>\n<style scoped>\n    .dataframe tbody tr th:only-of-type {\n        vertical-align: middle;\n    }\n\n    .dataframe tbody tr th {\n        vertical-align: top;\n    }\n\n    .dataframe thead th {\n        text-align: right;\n    }\n</style>\n<table border=\"1\" class=\"dataframe\">\n  <thead>\n    <tr style=\"text-align: right;\">\n      <th></th>\n      <th>label</th>\n      <th>pixel0</th>\n      <th>pixel1</th>\n      <th>pixel2</th>\n      <th>pixel3</th>\n      <th>pixel4</th>\n      <th>pixel5</th>\n      <th>pixel6</th>\n      <th>pixel7</th>\n      <th>pixel8</th>\n      <th>...</th>\n      <th>pixel774</th>\n      <th>pixel775</th>\n      <th>pixel776</th>\n      <th>pixel777</th>\n      <th>pixel778</th>\n      <th>pixel779</th>\n      <th>pixel780</th>\n      <th>pixel781</th>\n      <th>pixel782</th>\n      <th>pixel783</th>\n    </tr>\n  </thead>\n  <tbody>\n    <tr>\n      <th>0</th>\n      <td>1</td>\n      <td>0</td>\n      <td>0</td>\n      <td>0</td>\n      <td>0</td>\n      <td>0</td>\n      <td>0</td>\n      <td>0</td>\n      <td>0</td>\n      <td>0</td>\n      <td>...</td>\n      <td>0</td>\n      <td>0</td>\n      <td>0</td>\n      <td>0</td>\n      <td>0</td>\n      <td>0</td>\n      <td>0</td>\n      <td>0</td>\n      <td>0</td>\n      <td>0</td>\n    </tr>\n    <tr>\n      <th>1</th>\n      <td>0</td>\n      <td>0</td>\n      <td>0</td>\n      <td>0</td>\n      <td>0</td>\n      <td>0</td>\n      <td>0</td>\n      <td>0</td>\n      <td>0</td>\n      <td>0</td>\n      <td>...</td>\n      <td>0</td>\n      <td>0</td>\n      <td>0</td>\n      <td>0</td>\n      <td>0</td>\n      <td>0</td>\n      <td>0</td>\n      <td>0</td>\n      <td>0</td>\n      <td>0</td>\n    </tr>\n    <tr>\n      <th>2</th>\n      <td>1</td>\n      <td>0</td>\n      <td>0</td>\n      <td>0</td>\n      <td>0</td>\n      <td>0</td>\n      <td>0</td>\n      <td>0</td>\n      <td>0</td>\n      <td>0</td>\n      <td>...</td>\n      <td>0</td>\n      <td>0</td>\n      <td>0</td>\n      <td>0</td>\n      <td>0</td>\n      <td>0</td>\n      <td>0</td>\n      <td>0</td>\n      <td>0</td>\n      <td>0</td>\n    </tr>\n    <tr>\n      <th>3</th>\n      <td>4</td>\n      <td>0</td>\n      <td>0</td>\n      <td>0</td>\n      <td>0</td>\n      <td>0</td>\n      <td>0</td>\n      <td>0</td>\n      <td>0</td>\n      <td>0</td>\n      <td>...</td>\n      <td>0</td>\n      <td>0</td>\n      <td>0</td>\n      <td>0</td>\n      <td>0</td>\n      <td>0</td>\n      <td>0</td>\n      <td>0</td>\n      <td>0</td>\n      <td>0</td>\n    </tr>\n    <tr>\n      <th>4</th>\n      <td>0</td>\n      <td>0</td>\n      <td>0</td>\n      <td>0</td>\n      <td>0</td>\n      <td>0</td>\n      <td>0</td>\n      <td>0</td>\n      <td>0</td>\n      <td>0</td>\n      <td>...</td>\n      <td>0</td>\n      <td>0</td>\n      <td>0</td>\n      <td>0</td>\n      <td>0</td>\n      <td>0</td>\n      <td>0</td>\n      <td>0</td>\n      <td>0</td>\n      <td>0</td>\n    </tr>\n  </tbody>\n</table>\n<p>5 rows × 785 columns</p>\n</div>"
          },
          "metadata": {}
        }
      ]
    },
    {
      "metadata": {
        "_cell_guid": "de4fd5bf-ec0d-46e0-9948-8235f2a17630",
        "_uuid": "38009469104cc78686b7f2451fd53407065c9039",
        "trusted": true
      },
      "cell_type": "code",
      "source": "Y_train = train[\"label\"]\n\n# Drop 'label' column\nX_train = train.drop(labels = [\"label\"],axis = 1) \n\n# free some space\ndel train \n\ng = sns.countplot(Y_train)\n\nY_train.value_counts()",
      "execution_count": 4,
      "outputs": [
        {
          "output_type": "execute_result",
          "execution_count": 4,
          "data": {
            "text/plain": "1    4684\n7    4401\n3    4351\n9    4188\n2    4177\n6    4137\n0    4132\n4    4072\n8    4063\n5    3795\nName: label, dtype: int64"
          },
          "metadata": {}
        },
        {
          "output_type": "display_data",
          "data": {
            "text/plain": "<matplotlib.figure.Figure at 0x7fd090849c88>",
            "image/png": "[encoded data removed]"
          },
          "metadata": {}
        }
      ]
    },
    {
      "metadata": {
        "_cell_guid": "bb393d76-8dc7-40c6-bda1-0a7f2662001f",
        "_uuid": "47dc5a6031f1bbb6c052c3b04c62e4ff75d78d36",
        "trusted": true
      },
      "cell_type": "code",
      "source": "X_train.isnull().any().describe()",
      "execution_count": 5,
      "outputs": [
        {
          "output_type": "execute_result",
          "execution_count": 5,
          "data": {
            "text/plain": "count       784\nunique        1\ntop       False\nfreq        784\ndtype: object"
          },
          "metadata": {}
        }
      ]
    },
    {
      "metadata": {
        "_cell_guid": "690ff180-9e4f-4f99-94a5-e272c1713e1f",
        "_uuid": "bbafef369b4c4e1a222359b8ff6f255368e70b7f",
        "trusted": true
      },
      "cell_type": "code",
      "source": "test.isnull().any().describe()",
      "execution_count": 6,
      "outputs": [
        {
          "output_type": "execute_result",
          "execution_count": 6,
          "data": {
            "text/plain": "count       784\nunique        1\ntop       False\nfreq        784\ndtype: object"
          },
          "metadata": {}
        }
      ]
    },
    {
      "metadata": {
        "_uuid": "9471867983f0bdf71ca87895c8076732b1827b66",
        "_cell_guid": "bfb2c296-d44a-4912-be54-7bcdec0fd8f7",
        "collapsed": true,
        "trusted": true
      },
      "cell_type": "code",
      "source": "# Normalize the data\nX_train = X_train / 255.0\ntest = test / 255.0",
      "execution_count": 7,
      "outputs": []
    },
    {
      "metadata": {
        "_uuid": "f08bafed68da1a4934be40e89070b5399036f26a",
        "_cell_guid": "83b68c18-e4b7-4709-9c6a-066004f3648f",
        "collapsed": true,
        "trusted": true
      },
      "cell_type": "code",
      "source": "# Reshape image in 3 dimensions (height = 28px, width = 28px , canal = 1)\nX_train = X_train.values.reshape(-1,28,28,1)\ntest = test.values.reshape(-1,28,28,1)",
      "execution_count": 8,
      "outputs": []
    },
    {
      "metadata": {
        "_uuid": "c41378687a66ac307180af60eb4dfd577cbe1121",
        "_cell_guid": "931cb3eb-99fb-42e6-9ea9-fc888fb9c6fb",
        "collapsed": true,
        "trusted": true
      },
      "cell_type": "code",
      "source": "# Encode labels to one hot vectors (ex : 2 -> [0,0,1,0,0,0,0,0,0,0])\nY_train = to_categorical(Y_train, num_classes = 10)",
      "execution_count": 9,
      "outputs": []
    },
    {
      "metadata": {
        "_uuid": "b96b00a6dff7a75b5bc715c1ebe0a82158264221",
        "_cell_guid": "ab6fa26c-e006-4fc7-beb0-1c14d2b3356c",
        "collapsed": true,
        "trusted": true
      },
      "cell_type": "code",
      "source": "# Set the random seed\nrandom_seed = 2\n# Split the train and the validation set for the fitting\nX_train, X_val, Y_train, Y_val = train_test_split(X_train, Y_train, test_size = 0.1, random_state=random_seed)",
      "execution_count": 10,
      "outputs": []
    },
    {
      "metadata": {
        "_cell_guid": "c93d2e82-017f-4ed9-a962-c3722d183fc6",
        "_uuid": "f7b51450d8111e8d81fe3f5d763060ea97da3fcb",
        "trusted": true
      },
      "cell_type": "code",
      "source": "# Some examples\ng = plt.imshow(X_train[5][:,:,0])",
      "execution_count": 11,
      "outputs": [
        {
          "output_type": "display_data",
          "data": {
            "text/plain": "<matplotlib.figure.Figure at 0x7fd090506f28>",
            "image/png": "[encoded data removed]"
          },
          "metadata": {}
        }
      ]
    },
    {
      "metadata": {
        "_uuid": "85f5652aed8ca0f1609d202bec4ed2a3d51bcc64",
        "_cell_guid": "534975a8-e755-4294-8e20-59ce9486cf96",
        "trusted": true
      },
      "cell_type": "code",
      "source": "# Set the CNN model \n# my CNN architechture is In -> [[Conv2D->relu]*2 -> MaxPool2D -> Dropout]*2 -> Flatten -> Dense -> Dropout -> Out\n\nmodel = Sequential()\n\nmodel.add(Conv2D(filters = 32, kernel_size = (5,5),padding = 'Same', \n                 activation ='relu', input_shape = (28,28,1)))\nmodel.add(Conv2D(filters = 32, kernel_size = (5,5),padding = 'Same', \n                 activation ='relu'))\nmodel.add(MaxPool2D(pool_size=(2,2)))\nmodel.add(Dropout(0.25))\n\n\nmodel.add(Conv2D(filters = 64, kernel_size = (3,3),padding = 'Same', \n                 activation ='relu'))\nmodel.add(Conv2D(filters = 64, kernel_size = (3,3),padding = 'Same', \n                 activation ='relu'))\nmodel.add(MaxPool2D(pool_size=(2,2), strides=(2,2)))\nmodel.add(Dropout(0.25))\n\n\nmodel.add(Flatten())\nmodel.add(Dense(256, activation = \"relu\"))\nmodel.add(Dropout(0.5))\nmodel.add(Dense(10, activation = \"softmax\"))\nmodel.summary()",
      "execution_count": 20,
      "outputs": [
        {
          "output_type": "stream",
          "text": "_________________________________________________________________\nLayer (type)                 Output Shape              Param #   \n=================================================================\nconv2d_5 (Conv2D)            (None, 28, 28, 32)        832       \n_________________________________________________________________\nconv2d_6 (Conv2D)            (None, 28, 28, 32)        25632     \n_________________________________________________________________\nmax_pooling2d_3 (MaxPooling2 (None, 14, 14, 32)        0         \n_________________________________________________________________\ndropout_4 (Dropout)          (None, 14, 14, 32)        0         \n_________________________________________________________________\nconv2d_7 (Conv2D)            (None, 14, 14, 64)        18496     \n_________________________________________________________________\nconv2d_8 (Conv2D)            (None, 14, 14, 64)        36928     \n_________________________________________________________________\nmax_pooling2d_4 (MaxPooling2 (None, 7, 7, 64)          0         \n_________________________________________________________________\ndropout_5 (Dropout)          (None, 7, 7, 64)          0         \n_________________________________________________________________\nflatten_2 (Flatten)          (None, 3136)              0         \n_________________________________________________________________\ndense_3 (Dense)              (None, 256)               803072    \n_________________________________________________________________\ndropout_6 (Dropout)          (None, 256)               0         \n_________________________________________________________________\ndense_4 (Dense)              (None, 10)                2570      \n=================================================================\nTotal params: 887,530\nTrainable params: 887,530\nNon-trainable params: 0\n_________________________________________________________________\n",
          "name": "stdout"
        }
      ]
    },
    {
      "metadata": {
        "_uuid": "31286d1eecbca65ad8c09294511ffbbb9ed87bbb",
        "_cell_guid": "bd3bf57f-729c-466f-add6-ade032d22c7f",
        "collapsed": true,
        "trusted": true
      },
      "cell_type": "code",
      "source": "# Define the optimizer\noptimizer = RMSprop(lr=0.001, rho=0.9, epsilon=1e-08, decay=0.0)",
      "execution_count": 13,
      "outputs": []
    },
    {
      "metadata": {
        "_uuid": "d8ca2c6733b0bca974769950d8c99bda61f29de0",
        "_cell_guid": "ca518c0d-8cd6-4395-9da7-ce72e52f4dc2",
        "collapsed": true,
        "trusted": true
      },
      "cell_type": "code",
      "source": "# Compile the model\nmodel.compile(optimizer = optimizer , loss = \"categorical_crossentropy\", metrics=[\"accuracy\"])",
      "execution_count": 14,
      "outputs": []
    },
    {
      "metadata": {
        "_uuid": "f206c34cdfd1ff3ff8baad511ddda83ada816635",
        "_cell_guid": "8a9b519b-c199-48b0-9353-750d7e70ee1d",
        "collapsed": true,
        "trusted": true
      },
      "cell_type": "code",
      "source": "# Set a learning rate annealer\nlearning_rate_reduction = ReduceLROnPlateau(monitor='val_acc', \n                                            patience=3, \n                                            verbose=1, \n                                            factor=0.5, \n                                            min_lr=0.00001)",
      "execution_count": 15,
      "outputs": []
    },
    {
      "metadata": {
        "_uuid": "b1449622647b4c1acf82f64bbf4411a136758aeb",
        "_cell_guid": "e51301ee-4622-461f-9f4e-9799c8c356d1",
        "collapsed": true,
        "trusted": true
      },
      "cell_type": "code",
      "source": "epochs = 3 # Turn epochs to 30 to get 0.9967 accuracy\nbatch_size = 86",
      "execution_count": 16,
      "outputs": []
    },
    {
      "metadata": {
        "_uuid": "3d1b1e9c9e095e4c74a75e79bc3e8af3949ad46e",
        "_cell_guid": "4105c815-c78f-41d0-b052-051c414053bd",
        "collapsed": true,
        "trusted": true
      },
      "cell_type": "code",
      "source": "# With data augmentation to prevent overfitting (accuracy 0.99286)\n\ndatagen = ImageDataGenerator(\n        featurewise_center=False,  # set input mean to 0 over the dataset\n        samplewise_center=False,  # set each sample mean to 0\n        featurewise_std_normalization=False,  # divide inputs by std of the dataset\n        samplewise_std_normalization=False,  # divide each input by its std\n        zca_whitening=False,  # apply ZCA whitening\n        rotation_range=10,  # randomly rotate images in the range (degrees, 0 to 180)\n        zoom_range = 0.1, # Randomly zoom image \n        width_shift_range=0.1,  # randomly shift images horizontally (fraction of total width)\n        height_shift_range=0.1,  # randomly shift images vertically (fraction of total height)\n        horizontal_flip=False,  # randomly flip images\n        vertical_flip=False)  # randomly flip images\n\n\ndatagen.fit(X_train)",
      "execution_count": 17,
      "outputs": []
    },
    {
      "metadata": {
        "_uuid": "f109dc492f0c95125c932e05f67f5db717dcb663",
        "_cell_guid": "41e491b0-e7af-4b28-8ac2-043d9172376a",
        "scrolled": true,
        "trusted": true
      },
      "cell_type": "code",
      "source": "# Fit the model\nhistory = model.fit_generator(datagen.flow(X_train,Y_train, batch_size=batch_size),\n                              epochs = epochs, validation_data = (X_val,Y_val),\n                              verbose = 2, steps_per_epoch=X_train.shape[0] // batch_size\n                              , callbacks=[learning_rate_reduction])",
      "execution_count": 18,
      "outputs": [
        {
          "output_type": "stream",
          "text": "Epoch 1/3\n - 307s - loss: 0.4313 - acc: 0.8598 - val_loss: 0.0722 - val_acc: 0.9788\nEpoch 2/3\n - 307s - loss: 0.1356 - acc: 0.9601 - val_loss: 0.0474 - val_acc: 0.9855\nEpoch 3/3\n - 306s - loss: 0.0991 - acc: 0.9704 - val_loss: 0.0334 - val_acc: 0.9900\n",
          "name": "stdout"
        }
      ]
    },
    {
      "metadata": {
        "_cell_guid": "b5d143a5-17b4-429b-bd57-a59dc0d6baba",
        "_uuid": "209a3f4d803778c303a7fd8a21fae59f4096bf02",
        "trusted": true
      },
      "cell_type": "code",
      "source": "# Plot the loss and accuracy curves for training and validation \nfig, ax = plt.subplots(2,1)\nax[0].plot(history.history['loss'], color='b', label=\"Training loss\")\nax[0].plot(history.history['val_loss'], color='r', label=\"validation loss\",axes =ax[0])\nlegend = ax[0].legend(loc='best', shadow=True)\n\nax[1].plot(history.history['acc'], color='b', label=\"Training accuracy\")\nax[1].plot(history.history['val_acc'], color='r',label=\"Validation accuracy\")\nlegend = ax[1].legend(loc='best', shadow=True)",
      "execution_count": 19,
      "outputs": [
        {
          "output_type": "display_data",
          "data": {
            "text/plain": "<matplotlib.figure.Figure at 0x7fd0e3f351d0>",
            "image/png": "[encoded data removed]"
          },
          "metadata": {}
        }
      ]
    }
  ],
  "metadata": {
    "language_info": {
      "name": "python",
      "version": "3.6.4",
      "mimetype": "text/x-python",
      "codemirror_mode": {
        "name": "ipython",
        "version": 3
      },
      "pygments_lexer": "ipython3",
      "nbconvert_exporter": "python",
      "file_extension": ".py"
    },
    "kernelspec": {
      "display_name": "Python 3",
      "language": "python",
      "name": "python3"
    }
  },
  "nbformat": 4,
  "nbformat_minor": 1
}
